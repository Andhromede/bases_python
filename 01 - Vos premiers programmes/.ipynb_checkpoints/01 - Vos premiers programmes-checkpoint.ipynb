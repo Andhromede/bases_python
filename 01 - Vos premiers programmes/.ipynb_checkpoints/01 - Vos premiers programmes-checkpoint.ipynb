{
 "cells": [
  {
   "cell_type": "markdown",
   "id": "f1d935b6",
   "metadata": {},
   "source": [
    "# Vos premiers programmes.\n",
    "\n",
    "Bonjour à tous, et bienvenue dans le monde de la programmation. Dans ce jupyter notebook, vous découvrirez le langage Python, et créerez vos premiers programmes."
   ]
  },
  {
   "cell_type": "code",
   "execution_count": 1,
   "id": "4ae2d797",
   "metadata": {
    "scrolled": true
   },
   "outputs": [
    {
     "name": "stdout",
     "output_type": "stream",
     "text": [
      "Hello world\n"
     ]
    }
   ],
   "source": [
    "print(\"Hello world\")"
   ]
  },
  {
   "cell_type": "markdown",
   "id": "a4f06982",
   "metadata": {},
   "source": [
    "## Programmer ? Qu’est-ce que c’est ?\n",
    "\n",
    "Un ordinateur permet de faire plein de choses. Il peut par exemple afficher des pages web, faire de la retouche photo ou encore nous distraire avec les jeux vidéos. Nous pourrions croire l’ordinateur intelligent, mais pourtant … Il est extrêmement bête. Mais très discipliné et rapide ! Il n’est capable que d’exécuter une liste d’instruction, qui lui a été donnée avant.\n",
    "\n",
    "Programmer, c’est donc écrire cette suite d’instructions. Tout comme une recette de cuisine !\n",
    "Nous avons certaines instructions que nous pouvons utiliser. Par exemple, « Ajouter 500g de chocolat » ou encore « Mettre au four pendant 15 minutes, thermostat 8 »\n",
    "\n",
    "Apprendre les instructions de base est ce que vous allez apprendre dans la suite de ce Jupiter Notebook"
   ]
  },
  {
   "cell_type": "markdown",
   "id": "850f87ce",
   "metadata": {},
   "source": [
    "## La tortue, ou comment apprendre la programmation en dessinant !\n",
    "\n",
    "Le langage python possède de nombreuses fonctionnalités incluses dans le langage, mais parfois, nous avons besoin de nouvelles fonctionnalités. Celles-ci se regroupent dans des modules. La tortue est un module !\n",
    "\n",
    "Pour importer un module, on utilise l’instruction import :"
   ]
  },
  {
   "cell_type": "code",
   "execution_count": 2,
   "id": "05f30613",
   "metadata": {},
   "outputs": [],
   "source": [
    "import turtle"
   ]
  },
  {
   "cell_type": "markdown",
   "id": "2d45df25",
   "metadata": {},
   "source": [
    "Après avoir importé le module, nous pouvons utiliser les nouvelles instructions avec la notation : **nomDuModule**.**nomDeL'instruction**\n",
    "\n",
    "Avant de commencer le dessin, analysons le code minimal à utiliser avec la tortue :"
   ]
  },
  {
   "cell_type": "code",
   "execution_count": null,
   "id": "0649a24d",
   "metadata": {},
   "outputs": [],
   "source": [
    "# Ceci est un commentaire, les commentaires sont ignorés par l'ordinateur.\n",
    "# Ils sont ici pour permettre aux développeur de garder leur code compréhensible \n",
    "# (pour eux même ou pour les autres)\n",
    "\n",
    "turtle.speed(8) # permet de régler la vitesse d'animation de la tortue (1 étant le plus lent, 10 le plus rapide)\n",
    "\n",
    "# Début des instructions permettant de dessiner : insérer votre code ici !\n",
    "\n",
    "turtle.begin_fill() # permet d'indiquer à la tortue que l'on souhaite remplir la forme dessinée.\n",
    "turtle.forward(200) # Ici une instruction permettant d'avancer de 200px\n",
    "turtle.circle(30) # Ici une instruction permettant de dessiner un cercle de rayon 30px\n",
    "turtle.end_fill() # permet d'indiquer à la tortue que nous n'avons plus besoin de remplir les nouvelles formes\n",
    "turtle.circle(90)\n",
    "\n",
    "# fin des instruction permettant de dessiner.\n",
    "\n",
    "turtle.done() # permet d'indiquer à la tortue que nous avons fini le dessin"
   ]
  },
  {
   "cell_type": "markdown",
   "id": "277cf00a",
   "metadata": {},
   "source": [
    "### Exercices :"
   ]
  },
  {
   "cell_type": "raw",
   "id": "4fb66ffa",
   "metadata": {},
   "source": [
    "turtle.forward(nb) # permet d'avancer la tortue de nb px\n",
    "turtle.right(angle) # fait tourner la tortue de angle degrés vers la droite\n",
    "turtle.left(angle) # pareil que right, mais vers la gauche\n",
    "turtle.goto(x, y) # téléporte la tortue aux coordonnées (x,y)\n",
    "\n",
    "turtle.pendown() # active le stylo de la tortue pour qu'elle puisse dessiner\n",
    "turtle.penup() # relève le stylo de la tortue, elle peut toujours se déplacer mais ne dessine plus"
   ]
  },
  {
   "cell_type": "markdown",
   "id": "9f3d6eff",
   "metadata": {},
   "source": [
    "À l'aide des instructions suivantes, dessinez les formes suivantes : \n",
    "\n",
    "![ex1](ex1.png)"
   ]
  },
  {
   "cell_type": "markdown",
   "id": "32ec38e2",
   "metadata": {},
   "source": [
    "## Les variables, et les types données simples\n",
    "\n",
    "En python, nous pouvons stocker des valeurs dans la mémoire de l’ordinateur. Pour accéder à cette valeur, nous n’avons qu’à appeler cette **variable** par son nom.  Dès que nous avons à manipuler des données/informations, effectuer des calculs (et surtout retenir le résultat …), nous utiliserons des variables. Les variables s'utilisent comme ci-dessous :"
   ]
  },
  {
   "cell_type": "code",
   "execution_count": 3,
   "id": "acf85cfc",
   "metadata": {},
   "outputs": [
    {
     "name": "stdout",
     "output_type": "stream",
     "text": [
      "60\n",
      "la valeur de ma variable\n"
     ]
    }
   ],
   "source": [
    "nomDeMaVariable = \"la valeur de ma variable\" \n",
    "# crée la variable nomDeMaVariable contenant la chaine de caractères \"la valeur de ma variable\"\n",
    "\n",
    "nombreUn = 55 #crée la variable nombreUn qui contient la valeur 55\n",
    "nombreDeux = 5 #crée la variable nombreDeux qui contient la valeur 5\n",
    "resultat = nombreUn + nombreDeux #crée la variable résultat qui contient la somme de nombreUn et de nombreDeux\n",
    "\n",
    "print(resultat) # affiche le résultat de la variable resultat\n",
    "print(nomDeMaVariable)"
   ]
  },
  {
   "cell_type": "markdown",
   "id": "f6965950",
   "metadata": {},
   "source": [
    "### Type de données 1 : Les booléens\n",
    "\n",
    "Un booléen est une variable qui ne peut avoir que deux états : True (vrai) ou False (faux)\n",
    "\n",
    "Les opérations possibles sur un booléens sont les opérations * « ou » *, * « et » * et * « non » *"
   ]
  },
  {
   "cell_type": "code",
   "execution_count": 4,
   "id": "449a2ba8",
   "metadata": {},
   "outputs": [
    {
     "name": "stdout",
     "output_type": "stream",
     "text": [
      "var1 OU var2 = True\n",
      "var1 ET var2 = False\n",
      "NON var1 = False\n"
     ]
    }
   ],
   "source": [
    "var1 = True\n",
    "var2 = False\n",
    "\n",
    "print(\"var1 OU var2 = \" + str(var1 or var2))\n",
    "print(\"var1 ET var2 = \" + str(var1 and var2))\n",
    "print(\"NON var1 = \" + str(not var1))\n"
   ]
  },
  {
   "cell_type": "markdown",
   "id": "6f0d3e98",
   "metadata": {},
   "source": [
    "La table de vérité du *ET* est :\n",
    "\n",
    "| var1 \\ var2 | False |  True |\n",
    "|:-----------:|:-----:|:-----:|\n",
    "|    False    | False | False |\n",
    "|     True    | False |  True |\n",
    "\n",
    "Celle du *OU* : \n",
    "\n",
    "| var1 \\ var2 | False |  True |\n",
    "|:-----------:|:-----:|:-----:|\n",
    "|    False    | False |  True |\n",
    "|     True    | True  |  True |\n",
    "\n",
    "Celle du *NON*\n",
    "\n",
    "| var1 | NON var1 |\n",
    "|:-----------:|:-----:|\n",
    "|    False    | True |\n",
    "|     True    | False |\n",
    "\n",
    "\n",
    "### Type de données 2 : les nombres\n",
    "\n",
    "Les nombres peuvent être de deux trois types en Python. Ils peuvent être des entiers (int), des nombres à virgules (float) ou des nombres complexes. Nous nous attarderons ici sur les deux plus courants, les entiers et les nombres à virgule.\n",
    "\n",
    "Les opérations possibles sur les nombres entiers (int) sont :\n",
    "\n",
    "|            Opérateur            | Symbole en Python | Exemple d'expression |   Résultat  |\n",
    "|:-------------------------------:|:-----------------:|:--------------------:|:-----------:|\n",
    "|             Addition            |         +         |         5 + 6        |      11     |\n",
    "|           Soustraction          |         -         |         7 - 9        |      -2     |\n",
    "|          Multiplication         |         *         |         2 * 6        |      12     |\n",
    "|             Division            |         /         |       100 / 25       | 4.0 (float) |\n",
    "|            Puissance            |         **        |        2 ** 6        |      64     |\n",
    "| Quotient de la division entière |         //        |       100 // 25      |      4      |\n",
    "|   Reste de la division entière  |         %         |        35 % 2        |      1      |\n",
    "\n",
    "Les opérations possibles sur les nombres à virgule (float) sont :\n",
    "\n",
    "|            Opérateur            | Symbole en Python | Exemple d'expression |   Résultat  |\n",
    "|:-------------------------------:|:-----------------:|:--------------------:|:-----------:|\n",
    "|             Addition            |         +         |         5.2 + 6      |      11.2   |\n",
    "|           Soustraction          |         -         |         79.8 - 9.8   |      70.0   |\n",
    "|          Multiplication         |         *         |         2 * 6.5        |      13.0     |\n",
    "|             Division            |         /         |       100.0 / 25.0       | 4.0 |\n",
    "|            Puissance            |         **        |        2.0 ** 6        |      64.0     |\n",
    "\n",
    "\n",
    "### Type de données 3 : les chaines de caractères\n",
    "\n",
    "Les chaines de caractères sont des ensembles de caractères. Comme un mot, ou encore une phrase. Elle est contenu entre des guillemets."
   ]
  },
  {
   "cell_type": "code",
   "execution_count": 5,
   "id": "eafc37ab",
   "metadata": {},
   "outputs": [],
   "source": [
    "phrase = \"Bonjour, j'aime beaucoup le Python !\""
   ]
  },
  {
   "cell_type": "markdown",
   "id": "43386c62",
   "metadata": {},
   "source": [
    "Pour le moment, la seule opération dont nous aurons besoin est la concaténation. C'est le fait de coller une chaine de caractère à une autre. Comme ceci :"
   ]
  },
  {
   "cell_type": "code",
   "execution_count": 6,
   "id": "0f176208",
   "metadata": {},
   "outputs": [
    {
     "name": "stdout",
     "output_type": "stream",
     "text": [
      "Bonjour ! Ravi de vous revoir !\n"
     ]
    }
   ],
   "source": [
    "mot1 = \"Bonjour ! \"\n",
    "mot2 = \"Ravi de vous revoir !\"\n",
    "\n",
    "phrase = mot1 + mot2 # la concaténation est effectuée ici.\n",
    "print(phrase)"
   ]
  },
  {
   "cell_type": "markdown",
   "id": "fc731c41",
   "metadata": {},
   "source": [
    "On peut accéder à un caractère par son numéro. Par exemple, la première lettre de la variable phrase peut être obtenue grâce à la notation suivante :"
   ]
  },
  {
   "cell_type": "code",
   "execution_count": 7,
   "id": "7cc3b568",
   "metadata": {
    "scrolled": true
   },
   "outputs": [
    {
     "data": {
      "text/plain": [
       "'B'"
      ]
     },
     "execution_count": 7,
     "metadata": {},
     "output_type": "execute_result"
    }
   ],
   "source": [
    "phrase[0] # En informatique, on commence à compter à partir de 0 !"
   ]
  },
  {
   "cell_type": "markdown",
   "id": "58663abf",
   "metadata": {},
   "source": [
    "### Exercice 1 : miles vers km\n",
    "\n",
    "Écrire un programme qui convertie une distance donnée en miles en km.\n",
    "\n",
    "Ce programme doit demander à l'utilisateur la distance, puis afficher dans la console : \"XXX miles est équivalent à YYY km\" avec XXX remplacé par la valeur entrée par l'utilisateur, et YYY la valeur convertie.\n",
    "\n",
    "### Exercice 2 : échanger la valeur de deux variables.\n",
    "\n",
    "À partir du code ci-dessous, ajoutez les instructions permettant d'échanger la valeur des deux variables. **Attention : on n'échange pas ces valeurs à la main ! (ça n'aurait aucun intérêt)** "
   ]
  },
  {
   "cell_type": "code",
   "execution_count": 4,
   "id": "acb9f60f",
   "metadata": {},
   "outputs": [
    {
     "name": "stdout",
     "output_type": "stream",
     "text": [
      "Je dois être en seconde position | Je dois être en première position\n"
     ]
    }
   ],
   "source": [
    "var1 = \"Je dois être en seconde position\"\n",
    "var2 = \"Je dois être en première position\"\n",
    "\n",
    "## Ajouter le code de l'exercice ici ##\n",
    "\n",
    "\n",
    "\n",
    "print(var1 + \" | \" + var2) \n",
    "# après avoir complété l'exercice, doit afficher :\n",
    "# Je dois être en première position | Je dois être en seconde position"
   ]
  }
 ],
 "metadata": {
  "kernelspec": {
   "display_name": "Python 3",
   "language": "python",
   "name": "python3"
  },
  "language_info": {
   "codemirror_mode": {
    "name": "ipython",
    "version": 3
   },
   "file_extension": ".py",
   "mimetype": "text/x-python",
   "name": "python",
   "nbconvert_exporter": "python",
   "pygments_lexer": "ipython3",
   "version": "3.8.8"
  }
 },
 "nbformat": 4,
 "nbformat_minor": 5
}
