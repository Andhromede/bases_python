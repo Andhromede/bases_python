{
 "cells": [
  {
   "cell_type": "markdown",
   "id": "14c501a3",
   "metadata": {},
   "source": [
    "# 02 - A la découverte des comparaisons et des instructions conditionnelles\n",
    "\n",
    "Dans le chapitre précédent, nous avons vu que l'ordinateur exécutait les tâches les unes après les autres. Puis nous avons appris à créer des variables, et à y stocker des valeurs. Maintenant, nous allons apprendre à réaliser d’autres manipulations sur ces valeurs.\n",
    "\n",
    "## Les comparaisons\n",
    "\n",
    "Il est possible de comparer les valeurs contenues dans nos variables. Pour cela nous utilisons un opérateur de comparaison. Vous trouverez ci-dessous les plus courants. Lorsque nous effectuons une comparaison nous obtenons un booléen (une valeur qui vaut « True » ou « False »).\n",
    "\n",
    "|      Opérateur      |                                                    Symbole en Python                                                   |         Exemple d'expression         |            Résultat            |\n",
    "|:-------------------:|:----------------------------------------------------------------------------------------------------------------------:|:------------------------------------:|:------------------------------:|\n",
    "|    Test d'égalité   |                                                           ==                                                           |                8 == 8                |              True              |\n",
    "| Test de non égalité |                                                           !=                                                           |            \"foo\" != \"bar\"            |              True              |\n",
    "|     Comparaison     | \">\" -> plus grand que<br>\"<\" -> plus petit que<br>\">=\" -> plus grand (ou égal) que<br>\"<=\" -> plus petit (ou égal) que | 2 > 3<br>5 < 10<br>6 >= 6<br>7 <= -2 | False<br>True<br>True<br>False |"
   ]
  },
  {
   "cell_type": "markdown",
   "id": "525fac33",
   "metadata": {},
   "source": [
    "## Les instructions conditionnelles\n",
    "\n",
    "L’ordinateur exécute les instructions les unes après les autres, mais il peut arriver que nous ne voulions exécuter certaines lignes que si une condition est respectée. C’est pour cela que nous avons à disposition les instructions conditionnelles. Par exemple :"
   ]
  },
  {
   "cell_type": "code",
   "execution_count": 10,
   "id": "c77f343b",
   "metadata": {},
   "outputs": [
    {
     "name": "stdout",
     "output_type": "stream",
     "text": [
      "Entrez un nombre 6\n",
      "votre nombre est positif\n"
     ]
    }
   ],
   "source": [
    "nbUtilisateur = int(input(\"Entrez un nombre \"))\n",
    "\n",
    "if nbUtilisateur < 0:\n",
    "    # code qui s'exécute si nbUtilisateur est plus petit que 0\n",
    "    print(\"Votre nombre est négatif\")\n",
    "else:\n",
    "    # sinon, c'est ce code qui s'exécute\n",
    "    print(\"Votre nombre est positif ou nul !\")"
   ]
  },
  {
   "cell_type": "markdown",
   "id": "76c87b3f",
   "metadata": {},
   "source": [
    "ou encore :"
   ]
  },
  {
   "cell_type": "code",
   "execution_count": 15,
   "id": "5ee4863a",
   "metadata": {},
   "outputs": [
    {
     "name": "stdout",
     "output_type": "stream",
     "text": [
      "Vous avez entrez les nombre par ordre décroissant !\n"
     ]
    }
   ],
   "source": [
    "nb1 = 9\n",
    "nb2 = 8\n",
    "nb3 = 7\n",
    "\n",
    "if nb1 > nb2 and nb2 > nb3:\n",
    "    # si nb1 > nb2 et nb2 > nb3 alors on exécute ce code\n",
    "    print(\"Vous avez entrez les nombre par ordre décroissant !\")\n",
    "elif nb1 < nb2 and nb2 < nb3:\n",
    "    # sinon, si nb1 < nb2 et nb2 < nb3 alors on exécute ce code\n",
    "    print(\"Vous avez entrez les nombre par ordre croissant !\")\n",
    "else:\n",
    "    # sinon, on exécute celui-ci\n",
    "    print(\"Tout est dans le désordre !\")"
   ]
  },
  {
   "cell_type": "markdown",
   "id": "d1dd6459",
   "metadata": {},
   "source": [
    "## Exercices\n",
    "\n",
    "### Exercice 1 : pair ou impair ?\n",
    "\n",
    "Écrire une programme qui demande un nombre à l’utilisateur, puis affiche dans la console si celui-ci est pair ou impair.\n",
    "\n",
    "### Exercice 2 : trouver le maximum entre 3 nombres.\n",
    "\n",
    "Écrire un programme qui demande à l’utilisateur de rentrer 3 nombres. Afficher le nombre le plus grand dans la console."
   ]
  }
 ],
 "metadata": {
  "kernelspec": {
   "display_name": "Python 3",
   "language": "python",
   "name": "python3"
  },
  "language_info": {
   "codemirror_mode": {
    "name": "ipython",
    "version": 3
   },
   "file_extension": ".py",
   "mimetype": "text/x-python",
   "name": "python",
   "nbconvert_exporter": "python",
   "pygments_lexer": "ipython3",
   "version": "3.8.8"
  }
 },
 "nbformat": 4,
 "nbformat_minor": 5
}
