{
 "cells": [
  {
   "cell_type": "markdown",
   "id": "3b7bae8c",
   "metadata": {},
   "source": [
    "# 03 - Les fonctions.\n",
    "\n",
    "## Exercices :\n",
    "\n",
    "**Pour tous ces exercices, il vous sera demandé d'écrire la docstring pour vos fonctions. De plus, les noms des fonctions et des arguments et variables doivent avoir un sens**\n",
    "\n",
    "### Exercice 1 : \n",
    "Transformez en fonction le code suivant :\n"
   ]
  },
  {
   "cell_type": "code",
   "execution_count": null,
   "id": "380c7f26",
   "metadata": {},
   "outputs": [],
   "source": [
    "nb_utilisateur = int(input(\"Entrez un nombre entier : \"))\n",
    "\n",
    "if nb_utilisateur % 2 == 0:\n",
    "    print(\"le nombre est pair\")\n",
    "else:\n",
    "    print(\"Le nombre est impair\")"
   ]
  },
  {
   "cell_type": "markdown",
   "id": "16e0914d",
   "metadata": {},
   "source": [
    "### Exercice 2 :\n",
    "\n",
    "Écrire une fonction est_pair(). \n",
    "Cette fonction prend en argument un nombre nb, et renvoie True si nb est pair, False sinon."
   ]
  },
  {
   "cell_type": "markdown",
   "id": "b108799e",
   "metadata": {},
   "source": [
    "### Exercice 3 :\n",
    "\n",
    "Écrire une fonction qui prend pour argument 3 nombres, et renvoie le plus petit des trois"
   ]
  },
  {
   "cell_type": "markdown",
   "id": "b0924f8c",
   "metadata": {},
   "source": [
    "### Exercice 4 :\n",
    "\n",
    "Écrire la docstring de la fonction suivante, et améliorer la qualité du code :"
   ]
  },
  {
   "cell_type": "code",
   "execution_count": null,
   "id": "fb948e70",
   "metadata": {},
   "outputs": [],
   "source": [
    "def x(a, b):\n",
    "    if a < 0:\n",
    "        a = -a\n",
    "    if b < 0:\n",
    "        b = -b\n",
    "    return a*b"
   ]
  },
  {
   "cell_type": "markdown",
   "id": "9e5befe0",
   "metadata": {},
   "source": [
    "### Exercice 5 : \n",
    "\n",
    "Écrire une fonction qui prend en paramètres 3 nombres, et renvoie la moyenne des trois."
   ]
  }
 ],
 "metadata": {
  "kernelspec": {
   "display_name": "Python 3",
   "language": "python",
   "name": "python3"
  },
  "language_info": {
   "codemirror_mode": {
    "name": "ipython",
    "version": 3
   },
   "file_extension": ".py",
   "mimetype": "text/x-python",
   "name": "python",
   "nbconvert_exporter": "python",
   "pygments_lexer": "ipython3",
   "version": "3.8.8"
  }
 },
 "nbformat": 4,
 "nbformat_minor": 5
}
