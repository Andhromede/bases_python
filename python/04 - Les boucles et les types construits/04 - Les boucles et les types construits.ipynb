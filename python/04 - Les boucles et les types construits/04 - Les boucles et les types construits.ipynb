{
 "cells": [
  {
   "cell_type": "markdown",
   "id": "ceaa498c",
   "metadata": {},
   "source": [
    "# 04 - Les boucles et les types construits\n",
    "\n",
    "## Exercice 1 :\n",
    "\n",
    "Écrire un programme qui affiche un triangle de la taille d'un nombre rentré par l'utilisateur dans la console à l'aide de caractères \"#\".\n",
    "\n",
    "Voir l'exemple ci-dessous (ici l'utilisateur a tapé le nombre 7)"
   ]
  },
  {
   "cell_type": "raw",
   "id": "d4522c6a",
   "metadata": {},
   "source": [
    "#\n",
    "##\n",
    "###\n",
    "####\n",
    "#####\n",
    "######\n",
    "#######"
   ]
  },
  {
   "cell_type": "markdown",
   "id": "5842d6cb",
   "metadata": {},
   "source": [
    "## Exercice 2 :\n",
    "Écrire une fonction qui prend une liste de nombre en paramètre et qui renvoie la somme de tous les éléments de la liste"
   ]
  },
  {
   "cell_type": "markdown",
   "id": "ffccc0ff",
   "metadata": {},
   "source": [
    "## Exercice 3 :\n",
    "\n",
    "Écrire une fonction qui prend comme argument une liste de nombre, et qui renvoie la moyenne des nombres de la liste."
   ]
  },
  {
   "cell_type": "markdown",
   "id": "16eabcaf",
   "metadata": {},
   "source": [
    "## Exercice 4 :\n",
    "\n",
    "Créez un programme qui affiche dans la console tous les nombres de 1 à 100 avec deux exceptions : les nombres divisibles par 3, doivent être remplacés par « Fizz » et ceux divisibles par 5 doivent être remplacés par « Fuzz »."
   ]
  },
  {
   "cell_type": "markdown",
   "id": "50f8b375",
   "metadata": {},
   "source": [
    "## Exercice 5 : \n",
    "\n",
    "Écrire une fonction qui prend comme argument une liste et qui renvoie une liste contenant les mêmes éléments, mais dans l'ordre inverse.\n",
    "\n",
    "ex :"
   ]
  },
  {
   "cell_type": "raw",
   "id": "c40fd78b",
   "metadata": {},
   "source": [
    "[1, \"test\", 0.9867, \"Python, c'est génial !\"]\n",
    "\n",
    "Devient après le passage dans votre fonction :\n",
    "\n",
    "[\"Python, c'est génial !\", 0.9867, \"test\", 1]"
   ]
  },
  {
   "cell_type": "markdown",
   "id": "734d8272",
   "metadata": {},
   "source": [
    "*remarque :* Affichez votre liste d'origine : y a t'il eu des changements ?"
   ]
  },
  {
   "cell_type": "markdown",
   "id": "b0d3d8b7",
   "metadata": {},
   "source": [
    "## Exercice 6 :\n",
    "\n",
    "Créer un dictionnaire contenant des mots et leurs définitions.\n",
    "Écrire un programme qui demande à l'utilisateur un mot. Si ce mot est dans le dictionnaire, affichez sa définition. Sinon, affichez \"Nous ne connaissons pas ce mot\""
   ]
  },
  {
   "cell_type": "markdown",
   "id": "9cd113e9",
   "metadata": {},
   "source": [
    "## Exercice 7 :\n",
    "\n",
    "Créer une liste (**par compréhension !**) qui contient 1000 nombres aléatoires entre 1 et 100 (1000 lancers de dé)\n",
    "\n",
    "## Exercice 8 : \n",
    "\n",
    "À partir de la liste de l'exercice 7, créer une nouvelle liste qui ne contient que les jets qui ont donné un score inférieur à 10. Afficher leur nombre. (Il existe deux méthodes pour créer la nouvelle liste : soit avec avec une boucle, soit par compréhension. Essayer avec les deux méthodes."
   ]
  }
 ],
 "metadata": {
  "kernelspec": {
   "display_name": "Python 3",
   "language": "python",
   "name": "python3"
  },
  "language_info": {
   "codemirror_mode": {
    "name": "ipython",
    "version": 3
   },
   "file_extension": ".py",
   "mimetype": "text/x-python",
   "name": "python",
   "nbconvert_exporter": "python",
   "pygments_lexer": "ipython3",
   "version": "3.8.8"
  }
 },
 "nbformat": 4,
 "nbformat_minor": 5
}
